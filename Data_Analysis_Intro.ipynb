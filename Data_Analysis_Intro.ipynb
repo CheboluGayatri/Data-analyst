{
  "nbformat": 4,
  "nbformat_minor": 0,
  "metadata": {
    "colab": {
      "provenance": [],
      "authorship_tag": "ABX9TyOJ134mtAYdNKID5E9La2gx",
      "include_colab_link": true
    },
    "kernelspec": {
      "name": "python3",
      "display_name": "Python 3"
    },
    "language_info": {
      "name": "python"
    }
  },
  "cells": [
    {
      "cell_type": "markdown",
      "metadata": {
        "id": "view-in-github",
        "colab_type": "text"
      },
      "source": [
        "<a href=\"https://colab.research.google.com/github/CheboluGayatri/Data-analyst/blob/main/Data_Analysis_Intro.ipynb\" target=\"_parent\"><img src=\"https://colab.research.google.com/assets/colab-badge.svg\" alt=\"Open In Colab\"/></a>"
      ]
    },
    {
      "cell_type": "markdown",
      "source": [
        "*Data Analysis*\n",
        "\n",
        "A process of inspecting , cleaning , transforming,and modelling data with the goal of discovering useful information,information conclusion and supporting decision making"
      ],
      "metadata": {
        "id": "iWghtVd_wMRi"
      }
    },
    {
      "cell_type": "markdown",
      "source": [
        "*IN STEP BY STEP**\n",
        " 1.we use pandas to read, clean and transform data\n",
        " 2. modelling data means to  analise data by using stastical analysis identify like patterns\n",
        " 3. visualize data bu using matplotlib and seaborn\n",
        " 4. Used tol like tableaau,powerbi,exel,Qlik,Looker\n",
        " programming languages like python,R,Julia"
      ],
      "metadata": {
        "id": "z1ZCOU0Aw3Gl"
      }
    },
    {
      "cell_type": "markdown",
      "source": [
        "*Advantage*\n",
        "Tools like tableau and exel is easy to learn\n",
        "\n",
        "\n",
        "*Disadvantage*\n",
        "Scope of tool is limited we not cross it"
      ],
      "metadata": {
        "id": "AqHZLpq-y0IM"
      }
    },
    {
      "cell_type": "markdown",
      "source": [
        "**Why Pthon for Data analysis**\n",
        "1. Very simple and Understandable\n",
        "2.powerful Libraries\n",
        "3.Free and Open Source\n",
        "4.Amazying community, docs and Conference\n"
      ],
      "metadata": {
        "id": "0_uq4_8wz9Fh"
      }
    },
    {
      "cell_type": "markdown",
      "source": [
        "**Why R**\n",
        "1. When R studio is Needed\n",
        "2.When dealing with Advanced stastical method\n",
        "3. When Extreme performance is needed\n"
      ],
      "metadata": {
        "id": "sD4tPdHW0vG7"
      }
    },
    {
      "cell_type": "markdown",
      "source": [
        "**Python Libraries**\n",
        "1. Pandas: The corner stone of data analysis\n",
        "2.Matlplotlib:The foundation library for visualization\n",
        "3.Numpy: The numeric library used for calculations\n",
        "4.Seaborn:A stastical Visualization tool Built on top of matplotlib\n",
        "5.Stasmodel:A library with many advanced stastical Function\n",
        "6.Scipy:Advanced Scientify computing,Including Functions for optimization, linear algebra,image processing etc..\n",
        "7.Sclit-Learn:The most Popular library in python(not deep learning)"
      ],
      "metadata": {
        "id": "SygM-V6m10z7"
      }
    }
  ]
}